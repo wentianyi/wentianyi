{
 "cells": [
  {
   "cell_type": "markdown",
   "id": "0bab17cf",
   "metadata": {},
   "source": [
    "# Covid affact to different countries"
   ]
  },
  {
   "cell_type": "markdown",
   "id": "51d3aaea",
   "metadata": {},
   "source": [
    "## Introduction"
   ]
  },
  {
   "cell_type": "markdown",
   "id": "99a68e37",
   "metadata": {},
   "source": [
    "Since the begining of the 2020, people all arround the world had been sufuring from Cov-19. Different country are in different conditions and deal with the pandemic variously. We try to explain why some countries have done so much better than others, why some factors might has affect the result of dealing with covid 19."
   ]
  },
  {
   "cell_type": "markdown",
   "id": "74d4aea6",
   "metadata": {},
   "source": [
    "## Introducing data"
   ]
  },
  {
   "cell_type": "code",
   "execution_count": 281,
   "id": "b2ed5589",
   "metadata": {},
   "outputs": [],
   "source": [
    "import numpy as np\n",
    "import pandas as pd\n",
    "import matplotlib.pyplot as plt\n",
    "import seaborn as sns\n",
    "from sklearn import (\n",
    "    linear_model, metrics, neural_network, pipeline, model_selection\n",
    ")\n",
    "%matplotlib inline\n",
    "\n",
    "# Fixing random state for reproducibility\n",
    "np.random.seed(19980108)"
   ]
  },
  {
   "cell_type": "markdown",
   "id": "b30fb6fc",
   "metadata": {},
   "source": [
    "This dataset is from a Kaggle competation. Here is the link to it.\n",
    "https://www.kaggle.com/johnharshith/world-happiness-report-2021-worldwide-mortality\n",
    "This dataset contains the mortality data due to various factors across the globe in different countries from the Ninth World Happiness report (2021). The World Happiness Report 2021 focuses on the effects of COVID-19 and how people all over the world have fared. More information could be found here https://worldhappiness.report/ed/2021/. "
   ]
  },
  {
   "cell_type": "code",
   "execution_count": 282,
   "id": "d6cb3044",
   "metadata": {},
   "outputs": [
    {
     "data": {
      "text/html": [
       "<div>\n",
       "<style scoped>\n",
       "    .dataframe tbody tr th:only-of-type {\n",
       "        vertical-align: middle;\n",
       "    }\n",
       "\n",
       "    .dataframe tbody tr th {\n",
       "        vertical-align: top;\n",
       "    }\n",
       "\n",
       "    .dataframe thead th {\n",
       "        text-align: right;\n",
       "    }\n",
       "</style>\n",
       "<table border=\"1\" class=\"dataframe\">\n",
       "  <thead>\n",
       "    <tr style=\"text-align: right;\">\n",
       "      <th></th>\n",
       "      <th>Country name</th>\n",
       "      <th>Population 2020</th>\n",
       "      <th>Population 2019</th>\n",
       "      <th>COVID-19 deaths per 100,000 population in 2020</th>\n",
       "      <th>Median age</th>\n",
       "      <th>Island</th>\n",
       "      <th>Index of exposure to COVID-19  infections in other countries as of March 31</th>\n",
       "      <th>Log of average distance to SARS countries</th>\n",
       "      <th>WHO Western Pacific Region</th>\n",
       "      <th>Female head of government</th>\n",
       "      <th>Index of institutional trust</th>\n",
       "      <th>Gini coefficient of income</th>\n",
       "      <th>All-cause death count, 2017</th>\n",
       "      <th>All-cause death count, 2018</th>\n",
       "      <th>All-cause death count, 2019</th>\n",
       "      <th>All-cause death count, 2020</th>\n",
       "      <th>Excess deaths in 2020 per 100,000 population, relative to 2017-2019 average</th>\n",
       "    </tr>\n",
       "  </thead>\n",
       "  <tbody>\n",
       "    <tr>\n",
       "      <th>0</th>\n",
       "      <td>United States</td>\n",
       "      <td>331002647.0</td>\n",
       "      <td>328239523.0</td>\n",
       "      <td>104.451</td>\n",
       "      <td>38.3</td>\n",
       "      <td>0</td>\n",
       "      <td>1.688</td>\n",
       "      <td>9.315</td>\n",
       "      <td>0</td>\n",
       "      <td>0</td>\n",
       "      <td>0.250</td>\n",
       "      <td>47.51</td>\n",
       "      <td>2810927.0</td>\n",
       "      <td>2839076.0</td>\n",
       "      <td>2852747.0</td>\n",
       "      <td>3424996.0</td>\n",
       "      <td>179.22</td>\n",
       "    </tr>\n",
       "    <tr>\n",
       "      <th>1</th>\n",
       "      <td>Egypt</td>\n",
       "      <td>102334403.0</td>\n",
       "      <td>100388073.0</td>\n",
       "      <td>7.457</td>\n",
       "      <td>25.3</td>\n",
       "      <td>0</td>\n",
       "      <td>1.627</td>\n",
       "      <td>9.007</td>\n",
       "      <td>0</td>\n",
       "      <td>0</td>\n",
       "      <td>0.446</td>\n",
       "      <td>31.56</td>\n",
       "      <td>NaN</td>\n",
       "      <td>NaN</td>\n",
       "      <td>NaN</td>\n",
       "      <td>NaN</td>\n",
       "      <td>NaN</td>\n",
       "    </tr>\n",
       "    <tr>\n",
       "      <th>2</th>\n",
       "      <td>Morocco</td>\n",
       "      <td>36910558.0</td>\n",
       "      <td>36471769.0</td>\n",
       "      <td>20.016</td>\n",
       "      <td>29.6</td>\n",
       "      <td>0</td>\n",
       "      <td>2.336</td>\n",
       "      <td>9.226</td>\n",
       "      <td>0</td>\n",
       "      <td>0</td>\n",
       "      <td>0.397</td>\n",
       "      <td>39.55</td>\n",
       "      <td>NaN</td>\n",
       "      <td>NaN</td>\n",
       "      <td>NaN</td>\n",
       "      <td>NaN</td>\n",
       "      <td>NaN</td>\n",
       "    </tr>\n",
       "    <tr>\n",
       "      <th>3</th>\n",
       "      <td>Lebanon</td>\n",
       "      <td>6825442.0</td>\n",
       "      <td>6855713.0</td>\n",
       "      <td>21.508</td>\n",
       "      <td>31.1</td>\n",
       "      <td>0</td>\n",
       "      <td>1.891</td>\n",
       "      <td>8.956</td>\n",
       "      <td>0</td>\n",
       "      <td>0</td>\n",
       "      <td>0.107</td>\n",
       "      <td>31.83</td>\n",
       "      <td>NaN</td>\n",
       "      <td>NaN</td>\n",
       "      <td>NaN</td>\n",
       "      <td>NaN</td>\n",
       "      <td>NaN</td>\n",
       "    </tr>\n",
       "    <tr>\n",
       "      <th>4</th>\n",
       "      <td>Saudi Arabia</td>\n",
       "      <td>34813867.0</td>\n",
       "      <td>34268528.0</td>\n",
       "      <td>17.875</td>\n",
       "      <td>31.9</td>\n",
       "      <td>0</td>\n",
       "      <td>1.250</td>\n",
       "      <td>8.897</td>\n",
       "      <td>0</td>\n",
       "      <td>0</td>\n",
       "      <td>0.651</td>\n",
       "      <td>45.90</td>\n",
       "      <td>NaN</td>\n",
       "      <td>NaN</td>\n",
       "      <td>NaN</td>\n",
       "      <td>NaN</td>\n",
       "      <td>NaN</td>\n",
       "    </tr>\n",
       "  </tbody>\n",
       "</table>\n",
       "</div>"
      ],
      "text/plain": [
       "    Country name  Population 2020  Population 2019  \\\n",
       "0  United States      331002647.0      328239523.0   \n",
       "1          Egypt      102334403.0      100388073.0   \n",
       "2        Morocco       36910558.0       36471769.0   \n",
       "3        Lebanon        6825442.0        6855713.0   \n",
       "4   Saudi Arabia       34813867.0       34268528.0   \n",
       "\n",
       "   COVID-19 deaths per 100,000 population in 2020  Median age  Island  \\\n",
       "0                                         104.451        38.3       0   \n",
       "1                                           7.457        25.3       0   \n",
       "2                                          20.016        29.6       0   \n",
       "3                                          21.508        31.1       0   \n",
       "4                                          17.875        31.9       0   \n",
       "\n",
       "   Index of exposure to COVID-19  infections in other countries as of March 31  \\\n",
       "0                                              1.688                             \n",
       "1                                              1.627                             \n",
       "2                                              2.336                             \n",
       "3                                              1.891                             \n",
       "4                                              1.250                             \n",
       "\n",
       "   Log of average distance to SARS countries  WHO Western Pacific Region  \\\n",
       "0                                      9.315                           0   \n",
       "1                                      9.007                           0   \n",
       "2                                      9.226                           0   \n",
       "3                                      8.956                           0   \n",
       "4                                      8.897                           0   \n",
       "\n",
       "   Female head of government  Index of institutional trust  \\\n",
       "0                          0                         0.250   \n",
       "1                          0                         0.446   \n",
       "2                          0                         0.397   \n",
       "3                          0                         0.107   \n",
       "4                          0                         0.651   \n",
       "\n",
       "   Gini coefficient of income  All-cause death count, 2017  \\\n",
       "0                       47.51                    2810927.0   \n",
       "1                       31.56                          NaN   \n",
       "2                       39.55                          NaN   \n",
       "3                       31.83                          NaN   \n",
       "4                       45.90                          NaN   \n",
       "\n",
       "   All-cause death count, 2018  All-cause death count, 2019  \\\n",
       "0                    2839076.0                    2852747.0   \n",
       "1                          NaN                          NaN   \n",
       "2                          NaN                          NaN   \n",
       "3                          NaN                          NaN   \n",
       "4                          NaN                          NaN   \n",
       "\n",
       "   All-cause death count, 2020  \\\n",
       "0                    3424996.0   \n",
       "1                          NaN   \n",
       "2                          NaN   \n",
       "3                          NaN   \n",
       "4                          NaN   \n",
       "\n",
       "   Excess deaths in 2020 per 100,000 population, relative to 2017-2019 average  \n",
       "0                                             179.22                            \n",
       "1                                                NaN                            \n",
       "2                                                NaN                            \n",
       "3                                                NaN                            \n",
       "4                                                NaN                            "
      ]
     },
     "execution_count": 282,
     "metadata": {},
     "output_type": "execute_result"
    }
   ],
   "source": [
    "#load data\n",
    "data = pd.read_csv('WHR_Data2021.csv')\n",
    "data.head()"
   ]
  },
  {
   "cell_type": "code",
   "execution_count": 283,
   "id": "8b80f2ba",
   "metadata": {},
   "outputs": [
    {
     "name": "stdout",
     "output_type": "stream",
     "text": [
      "<class 'pandas.core.frame.DataFrame'>\n",
      "RangeIndex: 166 entries, 0 to 165\n",
      "Data columns (total 17 columns):\n",
      " #   Column                                                                       Non-Null Count  Dtype  \n",
      "---  ------                                                                       --------------  -----  \n",
      " 0   Country name                                                                 166 non-null    object \n",
      " 1   Population 2020                                                              164 non-null    float64\n",
      " 2   Population 2019                                                              164 non-null    float64\n",
      " 3   COVID-19 deaths per 100,000 population in 2020                               163 non-null    float64\n",
      " 4   Median age                                                                   163 non-null    float64\n",
      " 5   Island                                                                       166 non-null    int64  \n",
      " 6   Index of exposure to COVID-19  infections in other countries as of March 31  164 non-null    float64\n",
      " 7   Log of average distance to SARS countries                                    164 non-null    float64\n",
      " 8   WHO Western Pacific Region                                                   166 non-null    int64  \n",
      " 9   Female head of government                                                    166 non-null    int64  \n",
      " 10  Index of institutional trust                                                 165 non-null    float64\n",
      " 11  Gini coefficient of income                                                   164 non-null    float64\n",
      " 12  All-cause death count, 2017                                                  63 non-null     float64\n",
      " 13  All-cause death count, 2018                                                  64 non-null     float64\n",
      " 14  All-cause death count, 2019                                                  64 non-null     float64\n",
      " 15  All-cause death count, 2020                                                  65 non-null     float64\n",
      " 16  Excess deaths in 2020 per 100,000 population, relative to 2017-2019 average  64 non-null     float64\n",
      "dtypes: float64(13), int64(3), object(1)\n",
      "memory usage: 22.2+ KB\n"
     ]
    }
   ],
   "source": [
    "data.info()"
   ]
  },
  {
   "cell_type": "markdown",
   "id": "a4445134",
   "metadata": {},
   "source": [
    "some explainations of the columns:\n",
    "\n",
    "* `Island` if a country is an island or not.\n",
    "* `Index of exposure to COVID-19  infections in other countries as of March 31` Finding the index of exposure of COVID-19 infections in the corresponding country\n",
    "* `Log of average distance to SARS countries ` Log of the average distance to SARS countries\n",
    "* `WHO Western Pacific Region` Checking if it is a WHO Western Pacific region or not one\n",
    "* `Excess deaths in 2020 per 100,000 population, relative to 2017-2019 average` Excess deaths in 2020 per 100,000 population relative to 2017-2019 average\n",
    "* `Gini coefficient of income` a measure of inequality, larger value means heavier inequality."
   ]
  },
  {
   "cell_type": "code",
   "execution_count": 284,
   "id": "61c0af9a",
   "metadata": {},
   "outputs": [
    {
     "data": {
      "text/html": [
       "<div>\n",
       "<style scoped>\n",
       "    .dataframe tbody tr th:only-of-type {\n",
       "        vertical-align: middle;\n",
       "    }\n",
       "\n",
       "    .dataframe tbody tr th {\n",
       "        vertical-align: top;\n",
       "    }\n",
       "\n",
       "    .dataframe thead th {\n",
       "        text-align: right;\n",
       "    }\n",
       "</style>\n",
       "<table border=\"1\" class=\"dataframe\">\n",
       "  <thead>\n",
       "    <tr style=\"text-align: right;\">\n",
       "      <th></th>\n",
       "      <th>Country name</th>\n",
       "      <th>Population 2020</th>\n",
       "      <th>Population 2019</th>\n",
       "      <th>COVID-19 deaths per 100,000 population in 2020</th>\n",
       "      <th>Median age</th>\n",
       "      <th>Island</th>\n",
       "      <th>Index of exposure to COVID-19  infections in other countries as of March 31</th>\n",
       "      <th>Log of average distance to SARS countries</th>\n",
       "      <th>WHO Western Pacific Region</th>\n",
       "      <th>Female head of government</th>\n",
       "      <th>Index of institutional trust</th>\n",
       "      <th>Gini coefficient of income</th>\n",
       "      <th>All-cause death count, 2017</th>\n",
       "      <th>All-cause death count, 2018</th>\n",
       "      <th>All-cause death count, 2019</th>\n",
       "      <th>All-cause death count, 2020</th>\n",
       "      <th>Excess deaths in 2020 per 100,000 population, relative to 2017-2019 average</th>\n",
       "    </tr>\n",
       "  </thead>\n",
       "  <tbody>\n",
       "    <tr>\n",
       "      <th>0</th>\n",
       "      <td>United States</td>\n",
       "      <td>331002647.0</td>\n",
       "      <td>328239523.0</td>\n",
       "      <td>104.451</td>\n",
       "      <td>38.3</td>\n",
       "      <td>0</td>\n",
       "      <td>1.688</td>\n",
       "      <td>9.315</td>\n",
       "      <td>0</td>\n",
       "      <td>0</td>\n",
       "      <td>0.250</td>\n",
       "      <td>47.51</td>\n",
       "      <td>2810927.0</td>\n",
       "      <td>2839076.0</td>\n",
       "      <td>2852747.0</td>\n",
       "      <td>3424996.0</td>\n",
       "      <td>179.220</td>\n",
       "    </tr>\n",
       "    <tr>\n",
       "      <th>1</th>\n",
       "      <td>United Kingdom</td>\n",
       "      <td>67886004.0</td>\n",
       "      <td>66834405.0</td>\n",
       "      <td>108.450</td>\n",
       "      <td>40.8</td>\n",
       "      <td>1</td>\n",
       "      <td>5.009</td>\n",
       "      <td>9.087</td>\n",
       "      <td>0</td>\n",
       "      <td>0</td>\n",
       "      <td>0.268</td>\n",
       "      <td>34.07</td>\n",
       "      <td>606874.0</td>\n",
       "      <td>613309.0</td>\n",
       "      <td>600532.0</td>\n",
       "      <td>696705.0</td>\n",
       "      <td>133.313</td>\n",
       "    </tr>\n",
       "    <tr>\n",
       "      <th>2</th>\n",
       "      <td>France</td>\n",
       "      <td>65273512.0</td>\n",
       "      <td>67059887.0</td>\n",
       "      <td>99.212</td>\n",
       "      <td>42.0</td>\n",
       "      <td>0</td>\n",
       "      <td>5.031</td>\n",
       "      <td>9.092</td>\n",
       "      <td>0</td>\n",
       "      <td>0</td>\n",
       "      <td>0.234</td>\n",
       "      <td>29.30</td>\n",
       "      <td>604105.0</td>\n",
       "      <td>607786.0</td>\n",
       "      <td>611291.0</td>\n",
       "      <td>678259.0</td>\n",
       "      <td>106.597</td>\n",
       "    </tr>\n",
       "    <tr>\n",
       "      <th>3</th>\n",
       "      <td>Germany</td>\n",
       "      <td>83783945.0</td>\n",
       "      <td>83132799.0</td>\n",
       "      <td>40.331</td>\n",
       "      <td>46.6</td>\n",
       "      <td>0</td>\n",
       "      <td>4.838</td>\n",
       "      <td>9.018</td>\n",
       "      <td>0</td>\n",
       "      <td>1</td>\n",
       "      <td>0.435</td>\n",
       "      <td>31.10</td>\n",
       "      <td>929351.0</td>\n",
       "      <td>952295.0</td>\n",
       "      <td>936772.0</td>\n",
       "      <td>1000855.0</td>\n",
       "      <td>73.548</td>\n",
       "    </tr>\n",
       "    <tr>\n",
       "      <th>4</th>\n",
       "      <td>Netherlands</td>\n",
       "      <td>17134873.0</td>\n",
       "      <td>17332850.0</td>\n",
       "      <td>67.260</td>\n",
       "      <td>43.2</td>\n",
       "      <td>0</td>\n",
       "      <td>5.574</td>\n",
       "      <td>9.060</td>\n",
       "      <td>0</td>\n",
       "      <td>0</td>\n",
       "      <td>0.522</td>\n",
       "      <td>27.00</td>\n",
       "      <td>149805.0</td>\n",
       "      <td>152991.0</td>\n",
       "      <td>151547.0</td>\n",
       "      <td>171175.0</td>\n",
       "      <td>114.468</td>\n",
       "    </tr>\n",
       "  </tbody>\n",
       "</table>\n",
       "</div>"
      ],
      "text/plain": [
       "     Country name  Population 2020  Population 2019  \\\n",
       "0   United States      331002647.0      328239523.0   \n",
       "1  United Kingdom       67886004.0       66834405.0   \n",
       "2          France       65273512.0       67059887.0   \n",
       "3         Germany       83783945.0       83132799.0   \n",
       "4     Netherlands       17134873.0       17332850.0   \n",
       "\n",
       "   COVID-19 deaths per 100,000 population in 2020  Median age  Island  \\\n",
       "0                                         104.451        38.3       0   \n",
       "1                                         108.450        40.8       1   \n",
       "2                                          99.212        42.0       0   \n",
       "3                                          40.331        46.6       0   \n",
       "4                                          67.260        43.2       0   \n",
       "\n",
       "   Index of exposure to COVID-19  infections in other countries as of March 31  \\\n",
       "0                                              1.688                             \n",
       "1                                              5.009                             \n",
       "2                                              5.031                             \n",
       "3                                              4.838                             \n",
       "4                                              5.574                             \n",
       "\n",
       "   Log of average distance to SARS countries  WHO Western Pacific Region  \\\n",
       "0                                      9.315                           0   \n",
       "1                                      9.087                           0   \n",
       "2                                      9.092                           0   \n",
       "3                                      9.018                           0   \n",
       "4                                      9.060                           0   \n",
       "\n",
       "   Female head of government  Index of institutional trust  \\\n",
       "0                          0                         0.250   \n",
       "1                          0                         0.268   \n",
       "2                          0                         0.234   \n",
       "3                          1                         0.435   \n",
       "4                          0                         0.522   \n",
       "\n",
       "   Gini coefficient of income  All-cause death count, 2017  \\\n",
       "0                       47.51                    2810927.0   \n",
       "1                       34.07                     606874.0   \n",
       "2                       29.30                     604105.0   \n",
       "3                       31.10                     929351.0   \n",
       "4                       27.00                     149805.0   \n",
       "\n",
       "   All-cause death count, 2018  All-cause death count, 2019  \\\n",
       "0                    2839076.0                    2852747.0   \n",
       "1                     613309.0                     600532.0   \n",
       "2                     607786.0                     611291.0   \n",
       "3                     952295.0                     936772.0   \n",
       "4                     152991.0                     151547.0   \n",
       "\n",
       "   All-cause death count, 2020  \\\n",
       "0                    3424996.0   \n",
       "1                     696705.0   \n",
       "2                     678259.0   \n",
       "3                    1000855.0   \n",
       "4                     171175.0   \n",
       "\n",
       "   Excess deaths in 2020 per 100,000 population, relative to 2017-2019 average  \n",
       "0                                            179.220                            \n",
       "1                                            133.313                            \n",
       "2                                            106.597                            \n",
       "3                                             73.548                            \n",
       "4                                            114.468                            "
      ]
     },
     "execution_count": 284,
     "metadata": {},
     "output_type": "execute_result"
    }
   ],
   "source": [
    "#data cleaning\n",
    "#Here we drop those rows since some countries or regions is not accessable.  \n",
    "df=data.dropna()\n",
    "df.index = range(len(df))\n",
    "df.head()"
   ]
  },
  {
   "cell_type": "markdown",
   "id": "5007548c",
   "metadata": {},
   "source": [
    "## Factors might affact the country's covid infection"
   ]
  },
  {
   "cell_type": "markdown",
   "id": "da6c31dc",
   "metadata": {},
   "source": [
    "### Does a country with higher median age suffer more?"
   ]
  },
  {
   "cell_type": "code",
   "execution_count": 285,
   "id": "067f0ac0",
   "metadata": {},
   "outputs": [
    {
     "data": {
      "text/plain": [
       "<matplotlib.legend.Legend at 0x7fe39c0751f0>"
      ]
     },
     "execution_count": 285,
     "metadata": {},
     "output_type": "execute_result"
    },
    {
     "data": {
      "image/png": "[encoded data removed]",
      "text/plain": [
       "<Figure size 360x360 with 1 Axes>"
      ]
     },
     "metadata": {},
     "output_type": "display_data"
    }
   ],
   "source": [
    "#total population comparation 2020\n",
    "#we define a society is old if the median age is above 40.\n",
    "old_df=df.loc[df['Median age']>40]\n",
    "old_sum=old_df['Population 2020'].sum()\n",
    "\n",
    "young_df=df.loc[df['Median age']<40]\n",
    "young_sum=young_df['Population 2020'].sum()\n",
    "\n",
    "df_age_compare = pd.DataFrame({'total population': [old_sum, young_sum]},\n",
    "                  index=['old society', 'young society'])\n",
    "plot = df_age_compare.plot.pie(y='total population', figsize=(5, 5))\n",
    "plt.legend(loc=\"lower right\")"
   ]
  },
  {
   "cell_type": "code",
   "execution_count": 286,
   "id": "a4997f63",
   "metadata": {},
   "outputs": [
    {
     "data": {
      "image/png": "[encoded data removed]",
      "text/plain": [
       "<Figure size 432x288 with 1 Axes>"
      ]
     },
     "metadata": {
      "needs_background": "light"
     },
     "output_type": "display_data"
    }
   ],
   "source": [
    "x=old_df['Median age']\n",
    "y=old_df['COVID-19 deaths per 100,000 population in 2020']\n",
    "\n",
    "a=young_df['Median age']\n",
    "b=young_df['COVID-19 deaths per 100,000 population in 2020']\n",
    "\n",
    "plt.scatter(x, y, alpha=1,color='blue',s=14)\n",
    "plt.scatter(a, b, alpha=1,color='red',s=14)\n",
    "plt.xlabel('Median age') \n",
    "plt.ylabel('COVID-19 deaths per 100,000 population in 2020') \n",
    "plt.show()"
   ]
  },
  {
   "cell_type": "markdown",
   "id": "17694be6",
   "metadata": {},
   "source": [
    "From the figure above we can see that a country with a higher median age might not have a larger death rate than a country with younger median age, this might because society with a higher median age have better medical service."
   ]
  },
  {
   "cell_type": "markdown",
   "id": "cda90226",
   "metadata": {},
   "source": [
    "### Does an Island country suffer less?"
   ]
  },
  {
   "cell_type": "markdown",
   "id": "c2e93952",
   "metadata": {},
   "source": [
    "Island countries, like the UK, and Australia, are easier to control the entry of the boarder, to reduce traveling between countries. Thus might be easier to control the spead of Cov-19, which mignt lead to a smaller death rate due to Cov-19."
   ]
  },
  {
   "cell_type": "code",
   "execution_count": 287,
   "id": "fba7c934",
   "metadata": {},
   "outputs": [
    {
     "data": {
      "text/plain": [
       "<AxesSubplot:xlabel='Excess deaths in 2020 per 100,000 population, relative to 2017-2019 average', ylabel='COVID-19 deaths per 100,000 population in 2020'>"
      ]
     },
     "execution_count": 287,
     "metadata": {},
     "output_type": "execute_result"
    },
    {
     "data": {
      "image/png": "[encoded data removed]",
      "text/plain": [
       "<Figure size 432x288 with 1 Axes>"
      ]
     },
     "metadata": {
      "needs_background": "light"
     },
     "output_type": "display_data"
    }
   ],
   "source": [
    "sns.scatterplot(data=df, \n",
    "                x='Excess deaths in 2020 per 100,000 population, relative to 2017-2019 average',\n",
    "                y='COVID-19 deaths per 100,000 population in 2020', \n",
    "                hue=\"Island\")"
   ]
  },
  {
   "cell_type": "code",
   "execution_count": 288,
   "id": "4a0deb52",
   "metadata": {
    "scrolled": true
   },
   "outputs": [
    {
     "data": {
      "text/plain": [
       "<AxesSubplot:title={'center':'COVID-19 deaths per 100,000 population in 2020'}, xlabel='[Island]'>"
      ]
     },
     "execution_count": 288,
     "metadata": {},
     "output_type": "execute_result"
    },
    {
     "data": {
      "image/png": "[encoded data removed]",
      "text/plain": [
       "<Figure size 432x288 with 1 Axes>"
      ]
     },
     "metadata": {
      "needs_background": "light"
     },
     "output_type": "display_data"
    }
   ],
   "source": [
    "boxplot = df.boxplot(column=['COVID-19 deaths per 100,000 population in 2020'], by = ['Island'])\n",
    "boxplot"
   ]
  },
  {
   "cell_type": "markdown",
   "id": "f8c64f07",
   "metadata": {},
   "source": [
    "from the box plot we can see that island countries do have a smaller median value than countries those are not an island, and the death rate is smaller as well. This may indicate that island countries, to some extent, do have some advatages over those non-island countries to avoid death caused by covid. This could be explained that, once the airports and the piers got shut down, there are less ways to travel to another country, traveling could be controlled, thus control the spread of covid."
   ]
  },
  {
   "cell_type": "markdown",
   "id": "8d15890f",
   "metadata": {},
   "source": [
    "### Does a country with lower income inequality suffer less?"
   ]
  },
  {
   "cell_type": "markdown",
   "id": "4aef0eea",
   "metadata": {},
   "source": [
    "Will income inequality affect the death of pandemic? Probabily. Theoretically, a lower income inequality might lead to a kind relationship between people, and less Social contradiction. Thus the society might be easier to face to the pandemic and has a smaller rate of death caused by Covid."
   ]
  },
  {
   "cell_type": "code",
   "execution_count": 289,
   "id": "5c6b4686",
   "metadata": {},
   "outputs": [
    {
     "data": {
      "text/plain": [
       "<AxesSubplot:xlabel='Gini coefficient of income', ylabel='COVID-19 deaths per 100,000 population in 2020'>"
      ]
     },
     "execution_count": 289,
     "metadata": {},
     "output_type": "execute_result"
    },
    {
     "data": {
      "image/png": "[encoded data removed]",
      "text/plain": [
       "<Figure size 432x288 with 1 Axes>"
      ]
     },
     "metadata": {
      "needs_background": "light"
     },
     "output_type": "display_data"
    }
   ],
   "source": [
    "sns.scatterplot(data=df, \n",
    "                x='Gini coefficient of income',\n",
    "                y='COVID-19 deaths per 100,000 population in 2020')"
   ]
  },
  {
   "cell_type": "code",
   "execution_count": 290,
   "id": "62aab430",
   "metadata": {},
   "outputs": [
    {
     "data": {
      "image/png": "[encoded data removed]",
      "text/plain": [
       "<Figure size 432x432 with 1 Axes>"
      ]
     },
     "metadata": {
      "needs_background": "light"
     },
     "output_type": "display_data"
    }
   ],
   "source": [
    "# when we try to fit a model...\n",
    "sns.lmplot(\n",
    "    data=df, x='Gini coefficient of income', y='COVID-19 deaths per 100,000 population in 2020', height=6,\n",
    "    scatter_kws=dict(s=1.5, alpha=0.35)\n",
    ");"
   ]
  },
  {
   "cell_type": "markdown",
   "id": "f60d153f",
   "metadata": {},
   "source": [
    "from the two figures above, we cannot find a relationship between the Gini coefficient of income and the covid death rate, the data are widely spreaded. This could be explained. For example, both developed and developing countries could have a low Gini coefficient of income, for example, Netherlands and Tajikistan, a developed country like Netherlands have better medical and hospital system while developing country don't. "
   ]
  },
  {
   "cell_type": "markdown",
   "id": "a86e54cf",
   "metadata": {},
   "source": [
    "### Does WHO Western Pacific Region did better than other regions?"
   ]
  },
  {
   "cell_type": "code",
   "execution_count": 291,
   "id": "9975b427",
   "metadata": {
    "scrolled": true
   },
   "outputs": [
    {
     "data": {
      "text/plain": [
       "<AxesSubplot:xlabel='COVID-19 deaths per 100,000 population in 2020', ylabel='Excess deaths in 2020 per 100,000 population, relative to 2017-2019 average'>"
      ]
     },
     "execution_count": 291,
     "metadata": {},
     "output_type": "execute_result"
    },
    {
     "data": {
      "image/png": "[encoded data removed]",
      "text/plain": [
       "<Figure size 432x288 with 1 Axes>"
      ]
     },
     "metadata": {
      "needs_background": "light"
     },
     "output_type": "display_data"
    }
   ],
   "source": [
    "sns.scatterplot(data=df, \n",
    "                x='COVID-19 deaths per 100,000 population in 2020', \n",
    "                y='Excess deaths in 2020 per 100,000 population, relative to 2017-2019 average', \n",
    "                hue=\"WHO Western Pacific Region\")"
   ]
  },
  {
   "cell_type": "markdown",
   "id": "92918839",
   "metadata": {},
   "source": [
    "The East Asian countries are outperforming the western world. Despite the fact that the outbreak began in China, to which the rest of East Asia is very closely bound by trade and travel. "
   ]
  },
  {
   "cell_type": "markdown",
   "id": "f3450e4b",
   "metadata": {},
   "source": [
    "### top 10 country that have highest death per 100000 people"
   ]
  },
  {
   "cell_type": "code",
   "execution_count": 292,
   "id": "4ed873a9",
   "metadata": {},
   "outputs": [
    {
     "data": {
      "text/html": [
       "<div>\n",
       "<style scoped>\n",
       "    .dataframe tbody tr th:only-of-type {\n",
       "        vertical-align: middle;\n",
       "    }\n",
       "\n",
       "    .dataframe tbody tr th {\n",
       "        vertical-align: top;\n",
       "    }\n",
       "\n",
       "    .dataframe thead th {\n",
       "        text-align: right;\n",
       "    }\n",
       "</style>\n",
       "<table border=\"1\" class=\"dataframe\">\n",
       "  <thead>\n",
       "    <tr style=\"text-align: right;\">\n",
       "      <th></th>\n",
       "      <th>Country name</th>\n",
       "      <th>Population 2020</th>\n",
       "      <th>Population 2019</th>\n",
       "      <th>COVID-19 deaths per 100,000 population in 2020</th>\n",
       "      <th>Median age</th>\n",
       "      <th>Island</th>\n",
       "      <th>Index of exposure to COVID-19  infections in other countries as of March 31</th>\n",
       "      <th>Log of average distance to SARS countries</th>\n",
       "      <th>WHO Western Pacific Region</th>\n",
       "      <th>Female head of government</th>\n",
       "      <th>Index of institutional trust</th>\n",
       "      <th>Gini coefficient of income</th>\n",
       "      <th>All-cause death count, 2017</th>\n",
       "      <th>All-cause death count, 2018</th>\n",
       "      <th>All-cause death count, 2019</th>\n",
       "      <th>All-cause death count, 2020</th>\n",
       "      <th>Excess deaths in 2020 per 100,000 population, relative to 2017-2019 average</th>\n",
       "    </tr>\n",
       "  </thead>\n",
       "  <tbody>\n",
       "    <tr>\n",
       "      <th>5</th>\n",
       "      <td>Belgium</td>\n",
       "      <td>11589616.0</td>\n",
       "      <td>11484055.0</td>\n",
       "      <td>168.496</td>\n",
       "      <td>41.8</td>\n",
       "      <td>0</td>\n",
       "      <td>6.343</td>\n",
       "      <td>9.071</td>\n",
       "      <td>0</td>\n",
       "      <td>0</td>\n",
       "      <td>0.303</td>\n",
       "      <td>25.60</td>\n",
       "      <td>109278.0</td>\n",
       "      <td>110341.0</td>\n",
       "      <td>108436.0</td>\n",
       "      <td>128952.0</td>\n",
       "      <td>169.894</td>\n",
       "    </tr>\n",
       "    <tr>\n",
       "      <th>58</th>\n",
       "      <td>Slovenia</td>\n",
       "      <td>2078932.0</td>\n",
       "      <td>2087946.0</td>\n",
       "      <td>129.730</td>\n",
       "      <td>44.5</td>\n",
       "      <td>0</td>\n",
       "      <td>4.308</td>\n",
       "      <td>9.045</td>\n",
       "      <td>0</td>\n",
       "      <td>0</td>\n",
       "      <td>0.177</td>\n",
       "      <td>23.40</td>\n",
       "      <td>20436.0</td>\n",
       "      <td>20428.0</td>\n",
       "      <td>20547.0</td>\n",
       "      <td>24277.0</td>\n",
       "      <td>182.711</td>\n",
       "    </tr>\n",
       "    <tr>\n",
       "      <th>7</th>\n",
       "      <td>Italy</td>\n",
       "      <td>60461828.0</td>\n",
       "      <td>60297396.0</td>\n",
       "      <td>122.654</td>\n",
       "      <td>47.9</td>\n",
       "      <td>0</td>\n",
       "      <td>5.501</td>\n",
       "      <td>9.078</td>\n",
       "      <td>0</td>\n",
       "      <td>0</td>\n",
       "      <td>0.076</td>\n",
       "      <td>33.40</td>\n",
       "      <td>656891.0</td>\n",
       "      <td>638884.0</td>\n",
       "      <td>642964.0</td>\n",
       "      <td>756317.0</td>\n",
       "      <td>182.298</td>\n",
       "    </tr>\n",
       "    <tr>\n",
       "      <th>44</th>\n",
       "      <td>North Macedonia</td>\n",
       "      <td>2083380.0</td>\n",
       "      <td>2083459.0</td>\n",
       "      <td>120.141</td>\n",
       "      <td>39.1</td>\n",
       "      <td>0</td>\n",
       "      <td>2.875</td>\n",
       "      <td>9.022</td>\n",
       "      <td>0</td>\n",
       "      <td>0</td>\n",
       "      <td>0.105</td>\n",
       "      <td>32.40</td>\n",
       "      <td>20318.0</td>\n",
       "      <td>19727.0</td>\n",
       "      <td>20412.0</td>\n",
       "      <td>25049.0</td>\n",
       "      <td>235.030</td>\n",
       "    </tr>\n",
       "    <tr>\n",
       "      <th>53</th>\n",
       "      <td>Peru</td>\n",
       "      <td>32971846.0</td>\n",
       "      <td>32510453.0</td>\n",
       "      <td>114.279</td>\n",
       "      <td>29.1</td>\n",
       "      <td>0</td>\n",
       "      <td>0.636</td>\n",
       "      <td>9.690</td>\n",
       "      <td>0</td>\n",
       "      <td>0</td>\n",
       "      <td>0.096</td>\n",
       "      <td>43.90</td>\n",
       "      <td>98704.0</td>\n",
       "      <td>112516.0</td>\n",
       "      <td>114560.0</td>\n",
       "      <td>214503.0</td>\n",
       "      <td>323.476</td>\n",
       "    </tr>\n",
       "    <tr>\n",
       "      <th>32</th>\n",
       "      <td>Bulgaria</td>\n",
       "      <td>6948445.0</td>\n",
       "      <td>6975761.0</td>\n",
       "      <td>109.032</td>\n",
       "      <td>44.7</td>\n",
       "      <td>0</td>\n",
       "      <td>2.692</td>\n",
       "      <td>9.007</td>\n",
       "      <td>0</td>\n",
       "      <td>0</td>\n",
       "      <td>0.073</td>\n",
       "      <td>39.60</td>\n",
       "      <td>109330.0</td>\n",
       "      <td>108247.0</td>\n",
       "      <td>107849.0</td>\n",
       "      <td>126525.0</td>\n",
       "      <td>259.256</td>\n",
       "    </tr>\n",
       "    <tr>\n",
       "      <th>6</th>\n",
       "      <td>Spain</td>\n",
       "      <td>46754783.0</td>\n",
       "      <td>47076781.0</td>\n",
       "      <td>108.731</td>\n",
       "      <td>45.5</td>\n",
       "      <td>0</td>\n",
       "      <td>4.332</td>\n",
       "      <td>9.172</td>\n",
       "      <td>0</td>\n",
       "      <td>0</td>\n",
       "      <td>0.143</td>\n",
       "      <td>33.20</td>\n",
       "      <td>420589.0</td>\n",
       "      <td>423994.0</td>\n",
       "      <td>414914.0</td>\n",
       "      <td>501106.0</td>\n",
       "      <td>173.233</td>\n",
       "    </tr>\n",
       "    <tr>\n",
       "      <th>1</th>\n",
       "      <td>United Kingdom</td>\n",
       "      <td>67886004.0</td>\n",
       "      <td>66834405.0</td>\n",
       "      <td>108.450</td>\n",
       "      <td>40.8</td>\n",
       "      <td>1</td>\n",
       "      <td>5.009</td>\n",
       "      <td>9.087</td>\n",
       "      <td>0</td>\n",
       "      <td>0</td>\n",
       "      <td>0.268</td>\n",
       "      <td>34.07</td>\n",
       "      <td>606874.0</td>\n",
       "      <td>613309.0</td>\n",
       "      <td>600532.0</td>\n",
       "      <td>696705.0</td>\n",
       "      <td>133.313</td>\n",
       "    </tr>\n",
       "    <tr>\n",
       "      <th>10</th>\n",
       "      <td>Czech Republic</td>\n",
       "      <td>10708982.0</td>\n",
       "      <td>10669709.0</td>\n",
       "      <td>108.133</td>\n",
       "      <td>43.3</td>\n",
       "      <td>0</td>\n",
       "      <td>4.817</td>\n",
       "      <td>9.025</td>\n",
       "      <td>0</td>\n",
       "      <td>0</td>\n",
       "      <td>0.290</td>\n",
       "      <td>24.00</td>\n",
       "      <td>111007.0</td>\n",
       "      <td>112604.0</td>\n",
       "      <td>112040.0</td>\n",
       "      <td>131440.0</td>\n",
       "      <td>182.952</td>\n",
       "    </tr>\n",
       "    <tr>\n",
       "      <th>0</th>\n",
       "      <td>United States</td>\n",
       "      <td>331002647.0</td>\n",
       "      <td>328239523.0</td>\n",
       "      <td>104.451</td>\n",
       "      <td>38.3</td>\n",
       "      <td>0</td>\n",
       "      <td>1.688</td>\n",
       "      <td>9.315</td>\n",
       "      <td>0</td>\n",
       "      <td>0</td>\n",
       "      <td>0.250</td>\n",
       "      <td>47.51</td>\n",
       "      <td>2810927.0</td>\n",
       "      <td>2839076.0</td>\n",
       "      <td>2852747.0</td>\n",
       "      <td>3424996.0</td>\n",
       "      <td>179.220</td>\n",
       "    </tr>\n",
       "  </tbody>\n",
       "</table>\n",
       "</div>"
      ],
      "text/plain": [
       "       Country name  Population 2020  Population 2019  \\\n",
       "5           Belgium       11589616.0       11484055.0   \n",
       "58         Slovenia        2078932.0        2087946.0   \n",
       "7             Italy       60461828.0       60297396.0   \n",
       "44  North Macedonia        2083380.0        2083459.0   \n",
       "53             Peru       32971846.0       32510453.0   \n",
       "32         Bulgaria        6948445.0        6975761.0   \n",
       "6             Spain       46754783.0       47076781.0   \n",
       "1    United Kingdom       67886004.0       66834405.0   \n",
       "10   Czech Republic       10708982.0       10669709.0   \n",
       "0     United States      331002647.0      328239523.0   \n",
       "\n",
       "    COVID-19 deaths per 100,000 population in 2020  Median age  Island  \\\n",
       "5                                          168.496        41.8       0   \n",
       "58                                         129.730        44.5       0   \n",
       "7                                          122.654        47.9       0   \n",
       "44                                         120.141        39.1       0   \n",
       "53                                         114.279        29.1       0   \n",
       "32                                         109.032        44.7       0   \n",
       "6                                          108.731        45.5       0   \n",
       "1                                          108.450        40.8       1   \n",
       "10                                         108.133        43.3       0   \n",
       "0                                          104.451        38.3       0   \n",
       "\n",
       "    Index of exposure to COVID-19  infections in other countries as of March 31  \\\n",
       "5                                               6.343                             \n",
       "58                                              4.308                             \n",
       "7                                               5.501                             \n",
       "44                                              2.875                             \n",
       "53                                              0.636                             \n",
       "32                                              2.692                             \n",
       "6                                               4.332                             \n",
       "1                                               5.009                             \n",
       "10                                              4.817                             \n",
       "0                                               1.688                             \n",
       "\n",
       "    Log of average distance to SARS countries  WHO Western Pacific Region  \\\n",
       "5                                       9.071                           0   \n",
       "58                                      9.045                           0   \n",
       "7                                       9.078                           0   \n",
       "44                                      9.022                           0   \n",
       "53                                      9.690                           0   \n",
       "32                                      9.007                           0   \n",
       "6                                       9.172                           0   \n",
       "1                                       9.087                           0   \n",
       "10                                      9.025                           0   \n",
       "0                                       9.315                           0   \n",
       "\n",
       "    Female head of government  Index of institutional trust  \\\n",
       "5                           0                         0.303   \n",
       "58                          0                         0.177   \n",
       "7                           0                         0.076   \n",
       "44                          0                         0.105   \n",
       "53                          0                         0.096   \n",
       "32                          0                         0.073   \n",
       "6                           0                         0.143   \n",
       "1                           0                         0.268   \n",
       "10                          0                         0.290   \n",
       "0                           0                         0.250   \n",
       "\n",
       "    Gini coefficient of income  All-cause death count, 2017  \\\n",
       "5                        25.60                     109278.0   \n",
       "58                       23.40                      20436.0   \n",
       "7                        33.40                     656891.0   \n",
       "44                       32.40                      20318.0   \n",
       "53                       43.90                      98704.0   \n",
       "32                       39.60                     109330.0   \n",
       "6                        33.20                     420589.0   \n",
       "1                        34.07                     606874.0   \n",
       "10                       24.00                     111007.0   \n",
       "0                        47.51                    2810927.0   \n",
       "\n",
       "    All-cause death count, 2018  All-cause death count, 2019  \\\n",
       "5                      110341.0                     108436.0   \n",
       "58                      20428.0                      20547.0   \n",
       "7                      638884.0                     642964.0   \n",
       "44                      19727.0                      20412.0   \n",
       "53                     112516.0                     114560.0   \n",
       "32                     108247.0                     107849.0   \n",
       "6                      423994.0                     414914.0   \n",
       "1                      613309.0                     600532.0   \n",
       "10                     112604.0                     112040.0   \n",
       "0                     2839076.0                    2852747.0   \n",
       "\n",
       "    All-cause death count, 2020  \\\n",
       "5                      128952.0   \n",
       "58                      24277.0   \n",
       "7                      756317.0   \n",
       "44                      25049.0   \n",
       "53                     214503.0   \n",
       "32                     126525.0   \n",
       "6                      501106.0   \n",
       "1                      696705.0   \n",
       "10                     131440.0   \n",
       "0                     3424996.0   \n",
       "\n",
       "    Excess deaths in 2020 per 100,000 population, relative to 2017-2019 average  \n",
       "5                                             169.894                            \n",
       "58                                            182.711                            \n",
       "7                                             182.298                            \n",
       "44                                            235.030                            \n",
       "53                                            323.476                            \n",
       "32                                            259.256                            \n",
       "6                                             173.233                            \n",
       "1                                             133.313                            \n",
       "10                                            182.952                            \n",
       "0                                             179.220                            "
      ]
     },
     "execution_count": 292,
     "metadata": {},
     "output_type": "execute_result"
    }
   ],
   "source": [
    "df_top10=df.sort_values('COVID-19 deaths per 100,000 population in 2020',ascending=False).head(10)\n",
    "df_top10"
   ]
  },
  {
   "cell_type": "code",
   "execution_count": 293,
   "id": "8823e330",
   "metadata": {},
   "outputs": [
    {
     "data": {
      "image/png": "[encoded data removed]",
      "text/plain": [
       "<Figure size 1080x720 with 1 Axes>"
      ]
     },
     "metadata": {
      "needs_background": "light"
     },
     "output_type": "display_data"
    }
   ],
   "source": [
    "height = df_top10['COVID-19 deaths per 100,000 population in 2020']\n",
    "bars = df_top10['Country name']\n",
    "x_pos = np.arange(len(bars))\n",
    "\n",
    "plt.figure(figsize=(15, 10))\n",
    "plt.bar(x_pos, height, \n",
    "        color=['black','brown', 'olive','red', 'purple','pink','green', 'blue', 'cyan','yellow'])\n",
    "\n",
    "plt.xticks(x_pos, bars)\n",
    "\n",
    "\n",
    "\n",
    "plt.show()"
   ]
  },
  {
   "cell_type": "markdown",
   "id": "a3047952",
   "metadata": {},
   "source": [
    "### death change from 2017~2020 for the above top 10 countries"
   ]
  },
  {
   "cell_type": "code",
   "execution_count": 294,
   "id": "22ee98fe",
   "metadata": {
    "scrolled": true
   },
   "outputs": [
    {
     "data": {
      "text/plain": [
       "Text(0, 0.5, 'death')"
      ]
     },
     "execution_count": 294,
     "metadata": {},
     "output_type": "execute_result"
    },
    {
     "data": {
      "image/png": "[encoded data removed]",
      "text/plain": [
       "<Figure size 432x288 with 1 Axes>"
      ]
     },
     "metadata": {
      "needs_background": "light"
     },
     "output_type": "display_data"
    }
   ],
   "source": [
    "N=list(range(10))\n",
    "\n",
    "for n in N:\n",
    "    this_lable=df_top10.iloc[n]['Country name']\n",
    "    xn = Year\n",
    "    yn = [df_top10.iloc[n]['All-cause death count, 2017']/(1000000),\n",
    "        df_top10.iloc[n]['All-cause death count, 2018']/(1000000),\n",
    "        df_top10.iloc[n]['All-cause death count, 2019']/(1000000),\n",
    "        df_top10.iloc[n]['All-cause death count, 2020']/(1000000)] \n",
    "    plt.plot(xn, yn, label = this_lable)\n",
    "    plt.legend()\n",
    "\n",
    "plt.title('death change(in million)')\n",
    "plt.xlabel('Year')\n",
    "plt.ylabel('death')"
   ]
  },
  {
   "cell_type": "markdown",
   "id": "e33193fb",
   "metadata": {},
   "source": [
    "As shown, these countries's death increase obviously in the year 2020."
   ]
  },
  {
   "cell_type": "markdown",
   "id": "e66ec563",
   "metadata": {},
   "source": [
    "## Conclusion"
   ]
  },
  {
   "cell_type": "markdown",
   "id": "533f37b1",
   "metadata": {},
   "source": [
    "* Island country generally did better than other countries\n",
    "* Country with higher median age does not suffer more\n",
    "* WHO western pacific region countries did better in fighting with covid \n",
    "* income inequally doesnot contribute that much to the death due to covid of a country\n",
    "* top 10 country that have highest death per 100000 people are 'Belgium','Slovenia','Italy',\n",
    " 'North Macedonia','Peru','Bulgaria','Spain','United Kingdom','Czech Republic','UnitedStates'"
   ]
  },
  {
   "cell_type": "markdown",
   "id": "285eaa70",
   "metadata": {},
   "source": [
    "## Reference"
   ]
  },
  {
   "cell_type": "markdown",
   "id": "2b3b7a42",
   "metadata": {},
   "source": [
    "https://www.kaggle.com/johnharshith/world-happiness-report-2021-worldwide-mortality"
   ]
  },
  {
   "cell_type": "markdown",
   "id": "f427bf60",
   "metadata": {},
   "source": [
    "https://worldhappiness.report/ed/2021/"
   ]
  },
  {
   "cell_type": "markdown",
   "id": "1d9fc176",
   "metadata": {},
   "source": [
    "https://www.python-graph-gallery.com/3-control-color-of-barplots"
   ]
  }
 ],
 "metadata": {
  "kernelspec": {
   "display_name": "Python 3 (ipykernel)",
   "language": "python",
   "name": "python3"
  },
  "language_info": {
   "codemirror_mode": {
    "name": "ipython",
    "version": 3
   },
   "file_extension": ".py",
   "mimetype": "text/x-python",
   "name": "python",
   "nbconvert_exporter": "python",
   "pygments_lexer": "ipython3",
   "version": "3.9.7"
  }
 },
 "nbformat": 4,
 "nbformat_minor": 5
}
